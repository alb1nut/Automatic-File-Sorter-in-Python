{
 "cells": [
  {
   "cell_type": "markdown",
   "id": "83a350c7",
   "metadata": {},
   "source": [
    "# Automatic File Sorter in File Explorer in Python"
   ]
  },
  {
   "cell_type": "code",
   "execution_count": null,
   "id": "1d49b17a",
   "metadata": {},
   "outputs": [],
   "source": [
    "#Building an Automated File Sorter in File Explorer using Python | Python Project"
   ]
  },
  {
   "cell_type": "code",
   "execution_count": 1,
   "id": "d4f8feb3",
   "metadata": {},
   "outputs": [],
   "source": [
    "import os,shutil"
   ]
  },
  {
   "cell_type": "code",
   "execution_count": 31,
   "id": "daa2647a",
   "metadata": {},
   "outputs": [],
   "source": [
    "#path = r'C:/Users/ViztaEdu/Desktop/Data Analyst Program/python/'\n",
    "\n",
    "path =  r'C:/Users/ViztaEdu/Downloads/Telegram Desktop/'"
   ]
  },
  {
   "cell_type": "code",
   "execution_count": 32,
   "id": "69f96735",
   "metadata": {},
   "outputs": [],
   "source": [
    "#shows what files are in that path\n",
    "file_name = os.listdir(path)"
   ]
  },
  {
   "cell_type": "code",
   "execution_count": 33,
   "id": "2b9212b1",
   "metadata": {},
   "outputs": [
    {
     "data": {
      "text/plain": [
       "['.ipynb_checkpoints',\n",
       " '0.0-Baseline (3).ipynb',\n",
       " '0021-9010.90.5.1011.pdf',\n",
       " '02 ML Development (2).pdf',\n",
       " '02 ML Development.pdf',\n",
       " '03 Data analysis and preprocessing.pdf',\n",
       " '04092023018.jpg',\n",
       " '04092023020.jpg',\n",
       " '04092023021.jpg',\n",
       " '04092023022.jpg',\n",
       " '1-Albert_Dovlo.ipynb',\n",
       " '1.pdf',\n",
       " '10.21121-eab.874012-1554399.pdf',\n",
       " '17410401311285273.pdf',\n",
       " '1_Site_prototype (2).pdf',\n",
       " '1_Site_prototype.pdf',\n",
       " '2_Landing_page_tilda (2).pdf',\n",
       " '5 SMM fin.pdf',\n",
       " '6 SEO and Email marketing promotion fin.pdf',\n",
       " 'Capture.PNG',\n",
       " 'case2.zip',\n",
       " 'Creative (2).pptx',\n",
       " 'Creative (3).pptx',\n",
       " 'Data Analyst Discovery Platform (2).pptx',\n",
       " 'Data Analyst Discovery Platform - PayGi.pptx',\n",
       " 'Data Analyst Discovery Platform.pptx',\n",
       " 'DataConnect - Yandex Ad .pdf',\n",
       " 'DataConnect - Yandex Ad.pdf',\n",
       " 'document.pdf',\n",
       " 'Factors affecting employee performance a systematicliterature review.pdf',\n",
       " 'grades and deadlines.xlsx',\n",
       " 'Hal_R_Varian_Intermediate_Microeconomics_A_Modern_Approach_W_W_Norton.pdf',\n",
       " 'IJPPM-01-2018-0012.pdf',\n",
       " 'IJST-2023-144.pdf',\n",
       " 'image.png',\n",
       " 'image_2024-02-10_00-11-55.png',\n",
       " 'image_2024-02-23_23-07-16.png',\n",
       " 'image_2024-02-24_00-06-09.png',\n",
       " 'IMG_20231024_203152_849.jpg',\n",
       " 'IMG_20231024_203156_534.jpg',\n",
       " 'IMG_20231024_203157_448.jpg',\n",
       " 'IMG_20231024_203159_079.jpg',\n",
       " 'IMG_20231024_203200_519.jpg',\n",
       " 'IMG_20240125_122603 (2).jpg',\n",
       " 'IMG_20240125_122603.jpg',\n",
       " 'IMPACT_OF_EMPLOYEE_MOTIVATION_ON_ORGANIZ.pdf',\n",
       " 'JAMR-06-2018-0052.pdf',\n",
       " 'Lecture 1 - ML Product (3).pdf',\n",
       " 'lecture 2 (2).ipynb',\n",
       " 'lecture 2.ipynb',\n",
       " 'lecture 3.ipynb',\n",
       " 'LENTA PRESENTATION.odp',\n",
       " 'Med+ Clinic - Project.pdf',\n",
       " 'Mortgage task (en ru) (3).pdf',\n",
       " 'Network diagram template (1).xlsx',\n",
       " 'ORIENTAL SWEETS  24.11.2023-23.12.2023. (24.12.2023) (3).xlsx',\n",
       " 'OZON .csv',\n",
       " 'PACKAGED SWEET (1).pptm',\n",
       " 'parse_google.py',\n",
       " 'photo_2023-11-18_19-38-11.jpg',\n",
       " 'photo_2023-11-18_19-38-21.jpg',\n",
       " 'photo_2023-11-18_19-38-29.jpg',\n",
       " 'photo_2023-12-17_14-07-11.jpg',\n",
       " 'photo_2023-12-17_14-07-15.jpg',\n",
       " 'photo_2023-12-17_14-07-19.jpg',\n",
       " 'photo_2024-02-08_05-53-38.jpg',\n",
       " 'photo_2024-02-08_05-54-36.jpg',\n",
       " 'photo_2024-02-10_12-47-29.jpg',\n",
       " 'Project guidelines financial management (1).docx',\n",
       " 'project_dependencies.xlsx',\n",
       " 'Questionnaire (2).docx',\n",
       " 'sample exam masters (4).pdf',\n",
       " 'Screenshot (10).png',\n",
       " 'Screenshot (11).png',\n",
       " 'Screenshot (12).png',\n",
       " 'Screenshot (13).png',\n",
       " 'Screenshot (4).png',\n",
       " 'Screenshot (5).png',\n",
       " 'Screenshot (6).png',\n",
       " 'Screenshot (7).png',\n",
       " 'Screenshot (8).png',\n",
       " 'Screenshot (9).png',\n",
       " 'simplified_network_model.xlsx',\n",
       " 'SSRN-id3645036.pdf',\n",
       " 'submission (3).csv',\n",
       " 'Team F - Med+ Project #2.pdf',\n",
       " 'Team F - Project Management #1.pdf',\n",
       " 'test (3).csv',\n",
       " 'train (4).csv',\n",
       " 'Untitled.ipynb',\n",
       " '~$Creative (2).pptx',\n",
       " '~$OB_AL_hometask for 04.10.pptx',\n",
       " 'Снимок.PNG']"
      ]
     },
     "execution_count": 33,
     "metadata": {},
     "output_type": "execute_result"
    }
   ],
   "source": [
    "os.listdir(path)"
   ]
  },
  {
   "cell_type": "code",
   "execution_count": 37,
   "id": "26eeeecb",
   "metadata": {},
   "outputs": [
    {
     "name": "stdout",
     "output_type": "stream",
     "text": [
      "C:/Users/ViztaEdu/Downloads/Telegram Desktop/PDF files\n",
      "C:/Users/ViztaEdu/Downloads/Telegram Desktop/pptx files\n"
     ]
    }
   ],
   "source": [
    "#creating folders if not exited\n",
    "folder_names = ['Excel files', 'Image files', 'Doc files','PDF files','ipynb files','pptx files']\n",
    "\n",
    "for loop in range(0,6):\n",
    "    if not os.path.exists(path + folder_names[loop]):\n",
    "        print(path + folder_names[loop])\n",
    "        os.makedirs(path + folder_names[loop])\n",
    "        \n",
    "for file in file_name:\n",
    "    if \".xlsx\" in file and not os.path.exists(path + 'Excel files/'+ file):\n",
    "        shutil.move(path + file, path + \"Excel files/\" + file)\n",
    "    elif \".png\" in file and not os.path.exists(path + 'Image files/'+ file):\n",
    "        shutil.move(path + file, path + \"Image files/\" + file)\n",
    "    elif \".jpg\" in file and not os.path.exists(path + 'Image files/'+ file):\n",
    "        shutil.move(path + file, path + \"Image files/\" + file)\n",
    "    elif \".jpg\" in file and not os.path.exists(path + 'Image files/'+ file):\n",
    "        shutil.move(path + file, path + \"Image files/\" + file)\n",
    "    elif \".docx\" in file and not os.path.exists(path + 'Doc files/'+ file):\n",
    "        shutil.move(path + file, path + \"Doc files/\" + file)\n",
    "    elif \".pdf\" in file and not os.path.exists(path + 'PDF files/'+ file):\n",
    "        shutil.move(path + file, path + \"PDF files/\" + file)\n",
    "    elif \".ipynb\" in file and not os.path.exists(path + 'ipynb files/'+ file):\n",
    "        shutil.move(path + file, path + \"ipynb files/\" + file)\n",
    "    elif \".pptx\" in file and not os.path.exists(path + 'pptx files/'+ file):\n",
    "        shutil.move(path + file, path + \"pptx files/\" + file)"
   ]
  },
  {
   "cell_type": "code",
   "execution_count": 26,
   "id": "50e6e502",
   "metadata": {},
   "outputs": [
    {
     "name": "stdout",
     "output_type": "stream",
     "text": [
      "There are files in this path that were not moved\n"
     ]
    }
   ],
   "source": []
  },
  {
   "cell_type": "code",
   "execution_count": null,
   "id": "b0f9431e",
   "metadata": {},
   "outputs": [],
   "source": []
  }
 ],
 "metadata": {
  "kernelspec": {
   "display_name": "Python 3 (ipykernel)",
   "language": "python",
   "name": "python3"
  },
  "language_info": {
   "codemirror_mode": {
    "name": "ipython",
    "version": 3
   },
   "file_extension": ".py",
   "mimetype": "text/x-python",
   "name": "python",
   "nbconvert_exporter": "python",
   "pygments_lexer": "ipython3",
   "version": "3.11.5"
  }
 },
 "nbformat": 4,
 "nbformat_minor": 5
}
