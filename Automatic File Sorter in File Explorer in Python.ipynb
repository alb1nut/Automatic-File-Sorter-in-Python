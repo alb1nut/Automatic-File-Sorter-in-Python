{
 "cells": [
  {
   "cell_type": "markdown",
   "id": "83a350c7",
   "metadata": {},
   "source": [
    "# Automatic File Sorter in File Explorer in Python"
   ]
  },
  {
   "cell_type": "code",
   "execution_count": null,
   "id": "1d49b17a",
   "metadata": {},
   "outputs": [],
   "source": [
    "#Building an Automated File Sorter in File Explorer using Python | Python Project"
   ]
  },
  {
   "cell_type": "code",
   "execution_count": 1,
   "id": "d4f8feb3",
   "metadata": {},
   "outputs": [],
   "source": [
    "import os,shutil"
   ]
  },
  {
   "cell_type": "code",
   "execution_count": 27,
   "id": "daa2647a",
   "metadata": {},
   "outputs": [],
   "source": [
    "path = r'C:/Users/ViztaEdu/Desktop/Data Analyst Program/python/'"
   ]
  },
  {
   "cell_type": "code",
   "execution_count": 28,
   "id": "69f96735",
   "metadata": {},
   "outputs": [],
   "source": [
    "#shows what files are in that path\n",
    "file_name = os.listdir(path)"
   ]
  },
  {
   "cell_type": "code",
   "execution_count": 29,
   "id": "f26a9c9b",
   "metadata": {},
   "outputs": [
    {
     "data": {
      "text/plain": [
       "['fact opinion.png',\n",
       " 'GOAL_ DATA ANALYST.docx',\n",
       " 'Network Diag.xlsx',\n",
       " 'nt MODEL.png']"
      ]
     },
     "execution_count": 29,
     "metadata": {},
     "output_type": "execute_result"
    }
   ],
   "source": [
    "os.listdir(path)"
   ]
  },
  {
   "cell_type": "code",
   "execution_count": 30,
   "id": "26eeeecb",
   "metadata": {},
   "outputs": [
    {
     "name": "stdout",
     "output_type": "stream",
     "text": [
      "C:/Users/ViztaEdu/Desktop/Data Analyst Program/python/csv files\n",
      "C:/Users/ViztaEdu/Desktop/Data Analyst Program/python/image files\n",
      "C:/Users/ViztaEdu/Desktop/Data Analyst Program/python/text files\n",
      "There are files in this path that were not moved\n"
     ]
    }
   ],
   "source": [
    "#creating folders if not exited\n",
    "folder_names = ['csv files', 'image files', 'text files']\n",
    "\n",
    "for loop in range(0,3):\n",
    "    if not os.path.exists(path + folder_names[loop]):\n",
    "        print(path + folder_names[loop])\n",
    "        os.makedirs(path + folder_names[loop])\n",
    "        \n",
    "for file in file_name:\n",
    "    if \".xlsx\" in file and not os.path.exists(path + 'csv files/'+ file):\n",
    "        shutil.move(path + file, path + \"csv files/\" + file)\n",
    "    elif \".png\" in file and not os.path.exists(path + 'image files/'+ file):\n",
    "        shutil.move(path + file, path + \"image files/\" + file)\n",
    "    elif \".docx\" in file and not os.path.exists(path + 'text files/'+ file):\n",
    "        shutil.move(path + file, path + \"text files/\" + file)\n",
    "else:\n",
    "        print(\"There are files in this path that were not moved\")"
   ]
  },
  {
   "cell_type": "code",
   "execution_count": 26,
   "id": "50e6e502",
   "metadata": {},
   "outputs": [
    {
     "name": "stdout",
     "output_type": "stream",
     "text": [
      "There are files in this path that were not moved\n"
     ]
    }
   ],
   "source": []
  },
  {
   "cell_type": "code",
   "execution_count": null,
   "id": "4e4d1c38",
   "metadata": {},
   "outputs": [],
   "source": []
  }
 ],
 "metadata": {
  "kernelspec": {
   "display_name": "Python 3 (ipykernel)",
   "language": "python",
   "name": "python3"
  },
  "language_info": {
   "codemirror_mode": {
    "name": "ipython",
    "version": 3
   },
   "file_extension": ".py",
   "mimetype": "text/x-python",
   "name": "python",
   "nbconvert_exporter": "python",
   "pygments_lexer": "ipython3",
   "version": "3.11.5"
  }
 },
 "nbformat": 4,
 "nbformat_minor": 5
}
